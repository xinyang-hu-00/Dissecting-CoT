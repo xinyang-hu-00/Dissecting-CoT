{
 "cells": [
  {
   "cell_type": "code",
   "execution_count": 2,
   "id": "ed6cfeb1",
   "metadata": {},
   "outputs": [
    {
     "name": "stderr",
     "output_type": "stream",
     "text": [
      "0it [00:00, ?it/s]"
     ]
    },
    {
     "name": "stdout",
     "output_type": "stream",
     "text": [
      "DONE!\n"
     ]
    },
    {
     "name": "stderr",
     "output_type": "stream",
     "text": [
      "\n"
     ]
    }
   ],
   "source": [
    "import os\n",
    "from tqdm import tqdm\n",
    "\n",
    "from eval import get_run_metrics\n",
    "\n",
    "run_dir = \"../models\"\n",
    "task = \"cot_2nn\"\n",
    "# Add the run_id of the runs you want to evaluate\n",
    "run_ids = []\n",
    "\n",
    "for run_id in tqdm(run_ids):\n",
    "    run_path = os.path.join(run_dir, task, run_id)\n",
    "    get_run_metrics(run_path)\n",
    "\n",
    "print('DONE!')"
   ]
  }
 ],
 "metadata": {
  "kernelspec": {
   "display_name": "Python 3 (ipykernel)",
   "language": "python",
   "name": "python3"
  },
  "language_info": {
   "codemirror_mode": {
    "name": "ipython",
    "version": 3
   },
   "file_extension": ".py",
   "mimetype": "text/x-python",
   "name": "python",
   "nbconvert_exporter": "python",
   "pygments_lexer": "ipython3",
   "version": "3.8.12"
  }
 },
 "nbformat": 4,
 "nbformat_minor": 5
}
